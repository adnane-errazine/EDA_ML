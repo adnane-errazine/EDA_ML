{
 "cells": [
  {
   "cell_type": "markdown",
   "id": "f3a07c69",
   "metadata": {},
   "source": [
    "## 1. Setup data"
   ]
  },
  {
   "cell_type": "code",
   "execution_count": 1,
   "id": "20f26dc0",
   "metadata": {},
   "outputs": [
    {
     "name": "stdout",
     "output_type": "stream",
     "text": [
      "<class 'pandas.core.frame.DataFrame'>\n",
      "RangeIndex: 32561 entries, 0 to 32560\n",
      "Data columns (total 15 columns):\n",
      " #   Column          Non-Null Count  Dtype \n",
      "---  ------          --------------  ----- \n",
      " 0   age             32561 non-null  int64 \n",
      " 1   workclass       32561 non-null  object\n",
      " 2   fnlwgt          32561 non-null  int64 \n",
      " 3   education       32561 non-null  object\n",
      " 4   education-num   32561 non-null  int64 \n",
      " 5   marital-status  32561 non-null  object\n",
      " 6   occupation      32561 non-null  object\n",
      " 7   relationship    32561 non-null  object\n",
      " 8   race            32561 non-null  object\n",
      " 9   sex             32561 non-null  object\n",
      " 10  capital-gain    32561 non-null  int64 \n",
      " 11  capital-loss    32561 non-null  int64 \n",
      " 12  hours-per-week  32561 non-null  int64 \n",
      " 13  native-country  32561 non-null  object\n",
      " 14  income          32561 non-null  object\n",
      "dtypes: int64(6), object(9)\n",
      "memory usage: 3.7+ MB\n"
     ]
    },
    {
     "data": {
      "application/vnd.microsoft.datawrangler.viewer.v0+json": {
       "columns": [
        {
         "name": "index",
         "rawType": "int64",
         "type": "integer"
        },
        {
         "name": "age",
         "rawType": "int64",
         "type": "integer"
        },
        {
         "name": "workclass",
         "rawType": "object",
         "type": "string"
        },
        {
         "name": "fnlwgt",
         "rawType": "int64",
         "type": "integer"
        },
        {
         "name": "education",
         "rawType": "object",
         "type": "string"
        },
        {
         "name": "education-num",
         "rawType": "int64",
         "type": "integer"
        },
        {
         "name": "marital-status",
         "rawType": "object",
         "type": "string"
        },
        {
         "name": "occupation",
         "rawType": "object",
         "type": "string"
        },
        {
         "name": "relationship",
         "rawType": "object",
         "type": "string"
        },
        {
         "name": "race",
         "rawType": "object",
         "type": "string"
        },
        {
         "name": "sex",
         "rawType": "object",
         "type": "string"
        },
        {
         "name": "capital-gain",
         "rawType": "int64",
         "type": "integer"
        },
        {
         "name": "capital-loss",
         "rawType": "int64",
         "type": "integer"
        },
        {
         "name": "hours-per-week",
         "rawType": "int64",
         "type": "integer"
        },
        {
         "name": "native-country",
         "rawType": "object",
         "type": "string"
        },
        {
         "name": "income",
         "rawType": "object",
         "type": "string"
        }
       ],
       "ref": "11a5fe1d-d636-4cd0-8c9c-7f3e0f68abc2",
       "rows": [
        [
         "0",
         "39",
         " State-gov",
         "77516",
         " Bachelors",
         "13",
         " Never-married",
         " Adm-clerical",
         " Not-in-family",
         " White",
         " Male",
         "2174",
         "0",
         "40",
         " United-States",
         " <=50K"
        ],
        [
         "1",
         "50",
         " Self-emp-not-inc",
         "83311",
         " Bachelors",
         "13",
         " Married-civ-spouse",
         " Exec-managerial",
         " Husband",
         " White",
         " Male",
         "0",
         "0",
         "13",
         " United-States",
         " <=50K"
        ],
        [
         "2",
         "38",
         " Private",
         "215646",
         " HS-grad",
         "9",
         " Divorced",
         " Handlers-cleaners",
         " Not-in-family",
         " White",
         " Male",
         "0",
         "0",
         "40",
         " United-States",
         " <=50K"
        ],
        [
         "3",
         "53",
         " Private",
         "234721",
         " 11th",
         "7",
         " Married-civ-spouse",
         " Handlers-cleaners",
         " Husband",
         " Black",
         " Male",
         "0",
         "0",
         "40",
         " United-States",
         " <=50K"
        ],
        [
         "4",
         "28",
         " Private",
         "338409",
         " Bachelors",
         "13",
         " Married-civ-spouse",
         " Prof-specialty",
         " Wife",
         " Black",
         " Female",
         "0",
         "0",
         "40",
         " Cuba",
         " <=50K"
        ]
       ],
       "shape": {
        "columns": 15,
        "rows": 5
       }
      },
      "text/html": [
       "<div>\n",
       "<style scoped>\n",
       "    .dataframe tbody tr th:only-of-type {\n",
       "        vertical-align: middle;\n",
       "    }\n",
       "\n",
       "    .dataframe tbody tr th {\n",
       "        vertical-align: top;\n",
       "    }\n",
       "\n",
       "    .dataframe thead th {\n",
       "        text-align: right;\n",
       "    }\n",
       "</style>\n",
       "<table border=\"1\" class=\"dataframe\">\n",
       "  <thead>\n",
       "    <tr style=\"text-align: right;\">\n",
       "      <th></th>\n",
       "      <th>age</th>\n",
       "      <th>workclass</th>\n",
       "      <th>fnlwgt</th>\n",
       "      <th>education</th>\n",
       "      <th>education-num</th>\n",
       "      <th>marital-status</th>\n",
       "      <th>occupation</th>\n",
       "      <th>relationship</th>\n",
       "      <th>race</th>\n",
       "      <th>sex</th>\n",
       "      <th>capital-gain</th>\n",
       "      <th>capital-loss</th>\n",
       "      <th>hours-per-week</th>\n",
       "      <th>native-country</th>\n",
       "      <th>income</th>\n",
       "    </tr>\n",
       "  </thead>\n",
       "  <tbody>\n",
       "    <tr>\n",
       "      <th>0</th>\n",
       "      <td>39</td>\n",
       "      <td>State-gov</td>\n",
       "      <td>77516</td>\n",
       "      <td>Bachelors</td>\n",
       "      <td>13</td>\n",
       "      <td>Never-married</td>\n",
       "      <td>Adm-clerical</td>\n",
       "      <td>Not-in-family</td>\n",
       "      <td>White</td>\n",
       "      <td>Male</td>\n",
       "      <td>2174</td>\n",
       "      <td>0</td>\n",
       "      <td>40</td>\n",
       "      <td>United-States</td>\n",
       "      <td>&lt;=50K</td>\n",
       "    </tr>\n",
       "    <tr>\n",
       "      <th>1</th>\n",
       "      <td>50</td>\n",
       "      <td>Self-emp-not-inc</td>\n",
       "      <td>83311</td>\n",
       "      <td>Bachelors</td>\n",
       "      <td>13</td>\n",
       "      <td>Married-civ-spouse</td>\n",
       "      <td>Exec-managerial</td>\n",
       "      <td>Husband</td>\n",
       "      <td>White</td>\n",
       "      <td>Male</td>\n",
       "      <td>0</td>\n",
       "      <td>0</td>\n",
       "      <td>13</td>\n",
       "      <td>United-States</td>\n",
       "      <td>&lt;=50K</td>\n",
       "    </tr>\n",
       "    <tr>\n",
       "      <th>2</th>\n",
       "      <td>38</td>\n",
       "      <td>Private</td>\n",
       "      <td>215646</td>\n",
       "      <td>HS-grad</td>\n",
       "      <td>9</td>\n",
       "      <td>Divorced</td>\n",
       "      <td>Handlers-cleaners</td>\n",
       "      <td>Not-in-family</td>\n",
       "      <td>White</td>\n",
       "      <td>Male</td>\n",
       "      <td>0</td>\n",
       "      <td>0</td>\n",
       "      <td>40</td>\n",
       "      <td>United-States</td>\n",
       "      <td>&lt;=50K</td>\n",
       "    </tr>\n",
       "    <tr>\n",
       "      <th>3</th>\n",
       "      <td>53</td>\n",
       "      <td>Private</td>\n",
       "      <td>234721</td>\n",
       "      <td>11th</td>\n",
       "      <td>7</td>\n",
       "      <td>Married-civ-spouse</td>\n",
       "      <td>Handlers-cleaners</td>\n",
       "      <td>Husband</td>\n",
       "      <td>Black</td>\n",
       "      <td>Male</td>\n",
       "      <td>0</td>\n",
       "      <td>0</td>\n",
       "      <td>40</td>\n",
       "      <td>United-States</td>\n",
       "      <td>&lt;=50K</td>\n",
       "    </tr>\n",
       "    <tr>\n",
       "      <th>4</th>\n",
       "      <td>28</td>\n",
       "      <td>Private</td>\n",
       "      <td>338409</td>\n",
       "      <td>Bachelors</td>\n",
       "      <td>13</td>\n",
       "      <td>Married-civ-spouse</td>\n",
       "      <td>Prof-specialty</td>\n",
       "      <td>Wife</td>\n",
       "      <td>Black</td>\n",
       "      <td>Female</td>\n",
       "      <td>0</td>\n",
       "      <td>0</td>\n",
       "      <td>40</td>\n",
       "      <td>Cuba</td>\n",
       "      <td>&lt;=50K</td>\n",
       "    </tr>\n",
       "  </tbody>\n",
       "</table>\n",
       "</div>"
      ],
      "text/plain": [
       "   age          workclass  fnlwgt   education  education-num  \\\n",
       "0   39          State-gov   77516   Bachelors             13   \n",
       "1   50   Self-emp-not-inc   83311   Bachelors             13   \n",
       "2   38            Private  215646     HS-grad              9   \n",
       "3   53            Private  234721        11th              7   \n",
       "4   28            Private  338409   Bachelors             13   \n",
       "\n",
       "        marital-status          occupation    relationship    race      sex  \\\n",
       "0        Never-married        Adm-clerical   Not-in-family   White     Male   \n",
       "1   Married-civ-spouse     Exec-managerial         Husband   White     Male   \n",
       "2             Divorced   Handlers-cleaners   Not-in-family   White     Male   \n",
       "3   Married-civ-spouse   Handlers-cleaners         Husband   Black     Male   \n",
       "4   Married-civ-spouse      Prof-specialty            Wife   Black   Female   \n",
       "\n",
       "   capital-gain  capital-loss  hours-per-week  native-country  income  \n",
       "0          2174             0              40   United-States   <=50K  \n",
       "1             0             0              13   United-States   <=50K  \n",
       "2             0             0              40   United-States   <=50K  \n",
       "3             0             0              40   United-States   <=50K  \n",
       "4             0             0              40            Cuba   <=50K  "
      ]
     },
     "execution_count": 1,
     "metadata": {},
     "output_type": "execute_result"
    }
   ],
   "source": [
    "import pandas as pd\n",
    "import numpy as np\n",
    "url = \"https://archive.ics.uci.edu/ml/machine-learning-databases/adult/adult.data\"\n",
    "cols = [\n",
    "    \"age\", \"workclass\", \"fnlwgt\", \"education\", \"education-num\", \"marital-status\",\n",
    "    \"occupation\", \"relationship\", \"race\", \"sex\", \"capital-gain\", \"capital-loss\",\n",
    "    \"hours-per-week\", \"native-country\", \"income\"\n",
    "]\n",
    "\n",
    "df = pd.read_csv(url, header=None, names=cols)\n",
    "# df[\"income\"]=df[\"income\"].apply(lambda x: 0 if x==\"<=50k\" else 1)\n",
    "# df[\"test\"].astype() // pd.to_datetime()\n",
    "# df[\"cat_feature\"].astype(\"category\")\n",
    "# num_cols = df.select_dtypes(include=[\"int64\",\"float64\"]).columns\n",
    "# cat_cols = df.select_dtypes(include=[\"object\",\"category\"]).columns\n",
    "# df.describe\n",
    "# df.isnull().sum()\n",
    "target_feature = \"income\"\n",
    "df.info()\n",
    "df.head()"
   ]
  },
  {
   "cell_type": "code",
   "execution_count": 27,
   "id": "b0945259",
   "metadata": {},
   "outputs": [
    {
     "data": {
      "application/vnd.microsoft.datawrangler.viewer.v0+json": {
       "columns": [
        {
         "name": "income",
         "rawType": "object",
         "type": "string"
        },
        {
         "name": "count",
         "rawType": "int64",
         "type": "integer"
        }
       ],
       "ref": "3a86b62d-8aee-414d-9b20-71e137d6b53a",
       "rows": [
        [
         " <=50K",
         "30000"
        ],
        [
         " >50K",
         "10000"
        ]
       ],
       "shape": {
        "columns": 1,
        "rows": 2
       }
      },
      "text/plain": [
       "income\n",
       "<=50K    30000\n",
       ">50K     10000\n",
       "Name: count, dtype: int64"
      ]
     },
     "execution_count": 27,
     "metadata": {},
     "output_type": "execute_result"
    }
   ],
   "source": [
    "# SMOTE if necessary: \n",
    "from imblearn.over_sampling import SMOTE\n",
    "\n",
    "\n",
    "#!pip install imbalanced-learn\n",
    "X=df[[\"age\",\"fnlwgt\",\"income\"]].drop(columns=[\"income\"])\n",
    "y = df[\"income\"]\n",
    "smote = SMOTE(random_state=123, sampling_strategy={' >50K':10000,' <=50K':30000})#sampling_strategy=0.5\n",
    "X_resampled, y_resampled = smote.fit_resample(X, y)\n",
    "X_resampled[\"income\"] = y_resampled\n",
    "X_resampled[\"income\"].value_counts()\n",
    "#df_resampled = pd.\n",
    "#print(\"Resampled class distribution:\", Counter(df_resampled['target']))"
   ]
  },
  {
   "cell_type": "markdown",
   "id": "dee5c693",
   "metadata": {},
   "source": [
    "## 2. EDA"
   ]
  },
  {
   "cell_type": "code",
   "execution_count": 1,
   "id": "085690d0",
   "metadata": {},
   "outputs": [
    {
     "ename": "NameError",
     "evalue": "name 'df' is not defined",
     "output_type": "error",
     "traceback": [
      "\u001b[1;31m---------------------------------------------------------------------------\u001b[0m",
      "\u001b[1;31mNameError\u001b[0m                                 Traceback (most recent call last)",
      "Cell \u001b[1;32mIn[1], line 13\u001b[0m\n\u001b[0;32m      8\u001b[0m get_ipython()\u001b[38;5;241m.\u001b[39mrun_line_magic(\u001b[38;5;124m'\u001b[39m\u001b[38;5;124mmatplotlib\u001b[39m\u001b[38;5;124m'\u001b[39m, \u001b[38;5;124m'\u001b[39m\u001b[38;5;124minline\u001b[39m\u001b[38;5;124m'\u001b[39m)\n\u001b[0;32m     11\u001b[0m target_feature \u001b[38;5;241m=\u001b[39m \u001b[38;5;124m\"\u001b[39m\u001b[38;5;124mincome\u001b[39m\u001b[38;5;124m\"\u001b[39m\n\u001b[1;32m---> 13\u001b[0m \u001b[38;5;28mprint\u001b[39m(\u001b[43mdf\u001b[49m\u001b[38;5;241m.\u001b[39minfo())\n\u001b[0;32m     14\u001b[0m \u001b[38;5;28mprint\u001b[39m(\u001b[38;5;124m\"\u001b[39m\u001b[38;5;130;01m\\n\u001b[39;00m\u001b[38;5;124m missing values:\u001b[39m\u001b[38;5;130;01m\\n\u001b[39;00m\u001b[38;5;124m\"\u001b[39m, df\u001b[38;5;241m.\u001b[39misnull()\u001b[38;5;241m.\u001b[39msum())\n\u001b[0;32m     15\u001b[0m \u001b[38;5;28mprint\u001b[39m(\u001b[38;5;124m\"\u001b[39m\u001b[38;5;130;01m\\n\u001b[39;00m\u001b[38;5;124m summary statistics :\u001b[39m\u001b[38;5;130;01m\\n\u001b[39;00m\u001b[38;5;124m\"\u001b[39m, df\u001b[38;5;241m.\u001b[39mdescribe())\n",
      "\u001b[1;31mNameError\u001b[0m: name 'df' is not defined"
     ]
    }
   ],
   "source": [
    "# classification problem\n",
    "\n",
    "\n",
    "import pandas as pd\n",
    "import seaborn as sns\n",
    "import matplotlib.pyplot as plt\n",
    "\n",
    "%matplotlib inline\n",
    "\n",
    "\n",
    "target_feature = \"income\"\n",
    "\n",
    "print(df.info())\n",
    "print(\"\\n missing values:\\n\", df.isnull().sum())\n",
    "print(\"\\n summary statistics :\\n\", df.describe())\n",
    "\n",
    "# target distribution\n",
    "print(\"\\n target distribution:\\n\", df[target_feature].value_counts(normalize=True))\n",
    "sns.countplot(x=target_feature, data=df)\n",
    "plt.title(\"Target Distribution\")\n",
    "plt.show()\n",
    "\n",
    "\n",
    "\n",
    "\n",
    "\n",
    "categorical_features = [\"workclass\",\"education-num\",\"marital-status\",\"occupation\",\"relationship\",\"race\",\"sex\"]  # [\"sex\",\"thal\",\"ca\",\"slope\",\"exang\",\"restecg\",\"fbs\",\"cp\"]\n",
    "numerical_features = [\"age\",\"fnlwgt\",\"capital-gain\",\"hours-per-week\"]    # ['age', 'chol', 'oldpeak', 'thalach', 'trestbps']\n",
    "\n",
    "# numerical features\n",
    "# univariate analysis\n",
    "\n",
    "for feat_num in numerical_features:\n",
    "    feature = df[feat_num]\n",
    "    print(f\"\\nFeature: {feat_num}\")\n",
    "    print(\"Summary:\")\n",
    "    print(\"Number of data points:\", len(feature))\n",
    "    print(feature.describe())\n",
    "    #print(f\"Missing: {feature.isna().sum()}, Unique: {feature.nunique()}\")\n",
    "    print(\"Missing values:\", feature.isnull().sum(), \"Missing percentage: {:.2f}%\".format(feature.isnull().mean() * 100))\n",
    "    print(\"Unique values:\", feature.nunique(), \"Unique percentage: {:.2f}%\".format(feature.nunique() / len(df) * 100))\n",
    "    print(\"Minimum value:\", feature.min())\n",
    "    print(\"Maximum value:\", feature.max())\n",
    "    \n",
    "    fig, axes = plt.subplots(1, 3, figsize=(18, 4))\n",
    "\n",
    "    # histogram\n",
    "    sns.histplot(feature, ax=axes[0], kde=True, bins=30)\n",
    "    axes[0].set_title(f\"Histogram of {feat_num}\")\n",
    "\n",
    "    # boxplott\n",
    "    sns.boxplot(y=feature, ax=axes[1], color='lightcoral')\n",
    "    axes[1].set_title(f\"Boxplot of {feat_num}\")\n",
    "\n",
    "    # boxplot by target (less than 10 classes)\n",
    "    if target_feature in df.columns and df[target_feature].nunique() <= 10:\n",
    "        sns.boxplot(x=target_feature, y=feat_num, data=df, ax=axes[2])\n",
    "        axes[2].set_title(f\"{feat_num} by Target\")\n",
    "\n",
    "    plt.tight_layout()\n",
    "    plt.show()\n",
    "\n",
    "# categorical Features\n",
    "# univariate\n",
    "\n",
    "for feat_cat in categorical_features:\n",
    "    feature = df[feat_cat]\n",
    "    print(f\"\\n feature: {feat_cat}\")\n",
    "    print(\"value counts:\")\n",
    "    print(feature.value_counts(dropna=False))\n",
    "\n",
    "    fig, axes = plt.subplots(1, 2, figsize=(14, 4))\n",
    "\n",
    "    # countplot\n",
    "    sns.countplot(x=feat_cat, data=df, ax=axes[0])\n",
    "    axes[0].set_title(f\"countplot of {feat_cat}\")\n",
    "    axes[0].tick_params(axis='x', rotation=45)\n",
    "\n",
    "    # boxplot of target by category\n",
    "    if target_feature in df.columns :\n",
    "      sns.countplot(x=feat_cat, hue=target_feature, data=df, ax=axes[1], palette='Set2')\n",
    "      axes[1].set_title(f\"{feat_cat} grouped by Target\")\n",
    "\n",
    "    plt.tight_layout()\n",
    "    plt.show()\n",
    "\n",
    "\n",
    "# correlation analysis\n",
    "if len(numerical_features) > 1:\n",
    "    plt.figure(figsize=(12, 8))\n",
    "    sns.heatmap(df[numerical_features].corr(), annot=True, fmt='.2f', cmap='coolwarm')\n",
    "    plt.title(\"Correlation Matrix\")\n",
    "    plt.show()\n",
    "\n",
    "\n",
    "# Bivariate analysis\n",
    "\n",
    "# pairplot (num-num)\n",
    "\n",
    "numerical_features_pairplot = numerical_features\n",
    "\n",
    "if len(numerical_features_pairplot) <= 10:  # limit for visual clarity\n",
    "    sns.pairplot(df[numerical_features_pairplot + [target_feature]] if target_feature in df.columns else df[numerical_features_pairplot],\n",
    "                 hue= target_feature if target_feature in df.columns else None,\n",
    "                 palette='husl')\n",
    "    plt.show()"
   ]
  },
  {
   "cell_type": "markdown",
   "id": "f01c7bcd",
   "metadata": {},
   "source": [
    "## 3. Preprocessing"
   ]
  },
  {
   "cell_type": "code",
   "execution_count": 121,
   "id": "da097ae3",
   "metadata": {},
   "outputs": [],
   "source": [
    "df_copy = df.copy()"
   ]
  },
  {
   "cell_type": "code",
   "execution_count": 122,
   "id": "f81976cb",
   "metadata": {},
   "outputs": [],
   "source": [
    "df_copy['income'] = df_copy[\"income\"].map({\" <=50K\":0, \" >50K\":1}).astype(int)"
   ]
  },
  {
   "cell_type": "markdown",
   "id": "a7ca3521",
   "metadata": {},
   "source": [
    "### 3.1 Drop irrelevant columns and duplicates"
   ]
  },
  {
   "cell_type": "code",
   "execution_count": 123,
   "id": "6031e3ae",
   "metadata": {},
   "outputs": [
    {
     "name": "stdout",
     "output_type": "stream",
     "text": [
      "\n",
      "Number of duplicate rows: 81\n"
     ]
    }
   ],
   "source": [
    "df_copy = df_copy[df_copy[\"native-country\"] == \" United-States\"]\n",
    "df_copy = df_copy.drop(columns = [\"education\", \"occupation\", \"workclass\",\"native-country\"])\n",
    "df_copy.shape\n",
    "\n",
    "# check duplicates\n",
    "duplicates = df_copy.duplicated()\n",
    "print(\"\\nNumber of duplicate rows:\", duplicates.sum())\n",
    "# remove duplicates\n",
    "df_copy = df_copy[~duplicates]\n",
    "df_copy.reset_index(drop=True, inplace=True)"
   ]
  },
  {
   "cell_type": "markdown",
   "id": "06850cd3",
   "metadata": {},
   "source": [
    "### 3.2 Missing values patterns / Imputation strategy  "
   ]
  },
  {
   "cell_type": "code",
   "execution_count": null,
   "id": "2e59234a",
   "metadata": {},
   "outputs": [],
   "source": [
    "# how to handle missing values\n",
    "# Fill missing values for numerical features with median or median // categorical features with mode-most frequent value -> SimpleImputer\n",
    "# from sklearn.impute import SimpleImputer\n",
    "# img_num = SimpleImputer(missing_values=np.nan|\"\", strategy='mean'|'median'|'most_frequent')\n",
    "# imp_mode = SimpleImputer(missing_values=np.nan, strategy='most_frequent')\n",
    "# imp_median = SimpleImputer(missing_values=np.nan, strategy='median')\n",
    "# ignore missing values (whole column or few rows) if they are not significant (value_counts insignificant)\n",
    "\n",
    "#df[feat].fillna(df[feat].mode()[0], inplace=True)  # fill with mode for categorical features\n",
    "#df[numerical_features].fillna(df[numerical_features].median(), inplace=True)  # fill with median for numerical features\n",
    "\n",
    "\n",
    "#df[feat]= df[feat].replace(\" ?\", np.nan)  # replace \" ?\" with NaN\n"
   ]
  },
  {
   "cell_type": "markdown",
   "id": "5f8bfa33",
   "metadata": {},
   "source": [
    "### 3.3 Outlier detection and treatment strategy "
   ]
  },
  {
   "cell_type": "code",
   "execution_count": 124,
   "id": "59bdfbca",
   "metadata": {},
   "outputs": [],
   "source": [
    "# ignore last quantile of numerical features if relevant  // we could also use z-score or IQR to remove outliers \n",
    "\n",
    "\n",
    "df_copy = df_copy[\n",
    "    (df_copy[\"capital-gain\"] < df_copy[\"capital-gain\"].quantile(0.98)) \n",
    "    # & (df_copy[\"capital-gain\"] > df_copy[\"capital-gain\"].quantile(0.2))\n",
    "]\n",
    "df_copy = df_copy.reset_index(drop=True)\n"
   ]
  },
  {
   "cell_type": "markdown",
   "id": "e7e32bc0",
   "metadata": {},
   "source": [
    "### 3.4 Encoding"
   ]
  },
  {
   "cell_type": "code",
   "execution_count": 125,
   "id": "314cd44e",
   "metadata": {},
   "outputs": [],
   "source": [
    "from sklearn.preprocessing import OneHotEncoder, OrdinalEncoder, TargetEncoder\n",
    "from sklearn.preprocessing import LabelEncoder # to encode target variable in multiclass classification\n",
    "\n",
    "col_to_encode = [\"race\",\"sex\"]\n",
    "encoder = OneHotEncoder(drop='if_binary' ,handle_unknown='ignore', sparse_output=False)\n",
    "encoded = encoder.fit_transform(df_copy[col_to_encode])\n",
    "encoded_df = pd.DataFrame(encoded, columns=encoder.get_feature_names_out(col_to_encode))\n",
    "df_copy = pd.concat([df_copy.drop(columns=col_to_encode), encoded_df], axis=1)\n",
    "\n",
    "\n",
    "# or we can use OrdinalEncoder for ordinal categorical features (1 by 1) // meaningful order\n",
    "\n",
    "custom_order = [[' Wife', ' Husband', ' Not-in-family', ' Own-child', ' Other-relative', ' Unmarried']]\n",
    "ordinal_encoder = OrdinalEncoder(categories=custom_order)\n",
    "encoded = ordinal_encoder.fit_transform(df[['relationship']])\n",
    "df_copy['relationship_encoded'] = ordinal_encoder.fit_transform(df_copy[['relationship']])\n",
    "df_copy = df_copy.drop(columns=['relationship'])\n",
    "\n",
    "\n",
    "# in case of high cardinality, we can use target encoding (data leakage is a risk)\n",
    "\n",
    "target_encoder = TargetEncoder()\n",
    "df_copy['marital-status_encoded'] = target_encoder.fit(df_copy[['marital-status']], df_copy[target_feature]).transform(df_copy[['marital-status']])\n",
    "df_copy = df_copy.drop(columns=['marital-status'])\n"
   ]
  },
  {
   "cell_type": "markdown",
   "id": "50c6012d",
   "metadata": {},
   "source": [
    "### 3.5 Scaling"
   ]
  },
  {
   "cell_type": "code",
   "execution_count": 126,
   "id": "f7240d3c",
   "metadata": {},
   "outputs": [],
   "source": [
    "# scale numerical features \n",
    "from sklearn.preprocessing import StandardScaler, MinMaxScaler #  normalization, 0-1 scaling\n",
    "cols_scale = [\"fnlwgt\", \"capital-gain\"]\n",
    "scaler = StandardScaler()\n",
    "df_copy[cols_scale] = scaler.fit_transform(df_copy[cols_scale])"
   ]
  },
  {
   "cell_type": "markdown",
   "id": "25e299a9",
   "metadata": {},
   "source": [
    "### 3.6 feature creation / transformation"
   ]
  },
  {
   "cell_type": "code",
   "execution_count": null,
   "id": "fb987c3c",
   "metadata": {},
   "outputs": [],
   "source": [
    "# it's usually better to have numerical features normaly distributed, so we can apply log transformation if needed\n",
    "\n",
    "# if data is skewed to the right, we can apply log transformation -> Skewed to the right -> .apply(lambda x: np.log(x+1))  "
   ]
  },
  {
   "cell_type": "markdown",
   "id": "2b0eeaf5",
   "metadata": {},
   "source": [
    "## 4. Model selection and Evaluation"
   ]
  },
  {
   "cell_type": "markdown",
   "id": "cc0609f9",
   "metadata": {},
   "source": [
    "### 4.1 Split data / Cross validation\n"
   ]
  },
  {
   "cell_type": "code",
   "execution_count": 127,
   "id": "3c4fb3b3",
   "metadata": {},
   "outputs": [],
   "source": [
    "# classic train test split\n",
    "from sklearn.model_selection import train_test_split\n",
    "\n",
    "\n",
    "\n",
    "\n",
    "X_train, X_test, y_train, y_test = train_test_split(\n",
    "    df_copy.drop(columns=[target_feature]), \n",
    "    df_copy[target_feature], \n",
    "    test_size=0.2, \n",
    "    random_state=123, \n",
    "    stratify=df_copy[target_feature] if target_feature in df_copy.columns else None\n",
    ")\n",
    "\n",
    "\n",
    "\n",
    "# from sklearn.model_selection import StratifiedKFold # for stratified k-fold cross-validation\n",
    "\n",
    "# Define stratified k-fold with 5 splits\n",
    "#skf = StratifiedKFold(n_splits=5, shuffle=True, random_state=42)\n",
    "\n",
    "# # simple cross_validation\n",
    "\n",
    "# from sklearn.model_selection import cross_val_score\n",
    "\n",
    "# scores = cross_val_score(pipeline, X, y, cv=5, scoring='f1', n_jobs=-1)\n",
    "# print(f\"Mean F1 Score (CV): {scores.mean():.4f} ± {scores.std():.4f}\")\n",
    "\n",
    "# # gridSearchCV\n",
    "# from sklearn.model_selection import GridSearchCV\n",
    "\n",
    "# param_grid = {\n",
    "#     \"classifier__n_estimators\": [100, 200],\n",
    "#     \"classifier__max_depth\": [None, 10, 20],\n",
    "#     \"classifier__min_samples_split\": [2, 5]\n",
    "# }\n",
    "\n",
    "# grid_search = GridSearchCV(\n",
    "#     estimator=pipeline,\n",
    "#     param_grid=param_grid,\n",
    "#     cv=5,\n",
    "#     scoring='f1',\n",
    "#     n_jobs=-1,\n",
    "#     verbose=1,\n",
    "#     return_train_score=True\n",
    "# )\n",
    "\n",
    "# grid_search.fit(X_train, y_train)\n",
    "\n",
    "# print(\"Best params:\", grid_search.best_params_)\n",
    "# print(\"Best CV F1 Score:\", grid_search.best_score_)\n",
    "\n",
    "\n",
    "# define a custom scoring function\n",
    "#from sklearn.metrics import make_scorer, fbeta_score\n",
    "\n",
    "#f3_scorer = make_scorer(fbeta_score, beta=3) # , average='macro' if multiclass classification\n",
    "# use f3_scorer in cross-validation or grid search \n",
    "# scores = cross_val_score(pipeline, X_train, y_train, cv=5, scoring=f3_scorer, n_jobs=-1)\n",
    "# grid_search = GridSearchCV(estimator=pipeline,aram_grid=param_grid,scoring=f3_scorer,cv=5,n_jobs=-1,verbose=1)\n",
    "\n",
    "\n",
    "# from sklearn.model_selection import cross_validate\n",
    "\n",
    "# cv_results = cross_validate(\n",
    "#     pipeline, X, y,\n",
    "#     cv=5,\n",
    "#     scoring={\n",
    "#         'accuracy': 'accuracy',\n",
    "#         'precision': 'precision',\n",
    "#         'recall': 'recall',\n",
    "#         'f1': 'f1',\n",
    "#         'roc_auc': 'roc_auc'\n",
    "#     },\n",
    "#     return_train_score=True,\n",
    "#     n_jobs=-1\n",
    "# )\n",
    "\n",
    "# for metric in ['test_accuracy', 'test_precision', 'test_recall', 'test_f1', 'test_roc_auc']:\n",
    "#     print(f\"{metric}: {cv_results[metric].mean():.4f} ± {cv_results[metric].std():.4f}\")\n"
   ]
  },
  {
   "cell_type": "markdown",
   "id": "2a82a221",
   "metadata": {},
   "source": [
    "### 4.2 Evaluation Metrics"
   ]
  },
  {
   "cell_type": "code",
   "execution_count": 106,
   "id": "beaa627d",
   "metadata": {},
   "outputs": [],
   "source": [
    "from sklearn.metrics import (\n",
    "    accuracy_score, precision_score, recall_score, f1_score,\n",
    "    fbeta_score, classification_report, confusion_matrix,\n",
    "    roc_auc_score, roc_curve\n",
    ")\n",
    "import matplotlib.pyplot as plt\n",
    "import seaborn as sns\n",
    "\n",
    "# # Make predictions\n",
    "# y_pred = model.predict(X_test)\n",
    "# y_proba = model.predict_proba(X_test)\n",
    "\n",
    "# evaluation metrics\n",
    "def evaluate_model_custom(y_test, y_pred, y_proba):\n",
    "    accuracy = accuracy_score(y_test, y_pred)\n",
    "    print(f\"Accuracy: {accuracy:.4f}\")\n",
    "\n",
    "    precision = precision_score(y_test, y_pred)\n",
    "    recall = recall_score(y_test, y_pred)\n",
    "    f1 = f1_score(y_test, y_pred)\n",
    "    f_beta = fbeta_score(y_test, y_pred, beta=2)  # β < 1 (e.g., 0.5): Prioritize precision // β > 1 prioritize recall\n",
    "\n",
    "    print(f\"Precision: {precision:.4f}\")\n",
    "    print(f\"Recall:    {recall:.4f}\")\n",
    "    print(f\"F1 Score:  {f1:.4f}\")\n",
    "    print(f\"F2 Score:  {f_beta:.4f}\")  # F2 favors recall more than precision\n",
    "\n",
    "    # # Classification Report\n",
    "    #print(\"\\nClassification Report:\")\n",
    "    #print(classification_report(y_test, y_pred))\n",
    "\n",
    "    # Confusion Matrix\n",
    "    cm = confusion_matrix(y_test, y_pred)\n",
    "    plt.figure(figsize=(6, 4))\n",
    "    sns.heatmap(cm, annot=True, fmt='d', cmap='Blues')\n",
    "    plt.title(\"Confusion Matrix\")\n",
    "    plt.xlabel(\"Predicted\")\n",
    "    plt.ylabel(\"Actual\")\n",
    "    plt.show()\n",
    "\n",
    "    # ROC-AUC\n",
    "    # test if y_proba is available\n",
    "    if y_proba is not None and len(np.unique(y_test)) == 2:  # binary classification\n",
    "        auc = roc_auc_score(y_test, y_proba)\n",
    "        print(f\"ROC-AUC Score: {auc:.4f}\")\n",
    "    # # Plot ROC Curve\n",
    "    # fpr, tpr, _ = roc_curve(y_test, y_proba)\n",
    "    # plt.figure(figsize=(6, 4))\n",
    "    # plt.plot(fpr, tpr, label=f\"AUC = {auc:.2f}\")\n",
    "    # plt.plot([0, 1], [0, 1], linestyle=\"--\", color=\"gray\")\n",
    "    # plt.title(\"ROC Curve\")\n",
    "    # plt.xlabel(\"False Positive Rate\")\n",
    "    # plt.ylabel(\"True Positive Rate\")\n",
    "    # plt.legend()\n",
    "    # plt.show()\n",
    "\n",
    "\n",
    "    # for multiclass \n",
    "    if len(np.unique(y_test)) > 2:\n",
    "        f_beta = fbeta_score(y_test, y_pred, beta=2, average='macro')\n",
    "        # roc : one vs rest \n",
    "        try:\n",
    "            auc = roc_auc_score(y_test, y_proba, multi_class='ovr', average='macro')\n",
    "            print(f\"ROC-AUC Score (OvR): {auc:.4f}\")\n",
    "        except Exception as e:\n",
    "            print(f\"ROC-AUC not computed: {e}\")\n"
   ]
  },
  {
   "cell_type": "markdown",
   "id": "eb7356df",
   "metadata": {},
   "source": [
    "### 4.2 Model testing"
   ]
  },
  {
   "cell_type": "code",
   "execution_count": null,
   "id": "0f848c75",
   "metadata": {},
   "outputs": [
    {
     "name": "stdout",
     "output_type": "stream",
     "text": [
      "\n",
      "Training Logistic Regression...\n",
      "Logistic Regression trained successfully.\n",
      "y_proba : [0.2589446  0.19068808 0.00239171 ... 0.34305655 0.3777373  0.02859149]\n",
      "Accuracy: 0.8421\n",
      "Precision: 0.7162\n",
      "Recall:    0.5187\n",
      "F1 Score:  0.6017\n",
      "F2 Score:  0.5490\n"
     ]
    },
    {
     "name": "stderr",
     "output_type": "stream",
     "text": [
      "c:\\Users\\Ad\\AppData\\Local\\Programs\\Python\\Python312\\Lib\\site-packages\\sklearn\\linear_model\\_logistic.py:469: ConvergenceWarning: lbfgs failed to converge (status=1):\n",
      "STOP: TOTAL NO. of ITERATIONS REACHED LIMIT.\n",
      "\n",
      "Increase the number of iterations (max_iter) or scale the data as shown in:\n",
      "    https://scikit-learn.org/stable/modules/preprocessing.html\n",
      "Please also refer to the documentation for alternative solver options:\n",
      "    https://scikit-learn.org/stable/modules/linear_model.html#logistic-regression\n",
      "  n_iter_i = _check_optimize_result(\n"
     ]
    },
    {
     "data": {
      "image/png": "[encoded data removed]",
      "text/plain": [
       "<Figure size 600x400 with 2 Axes>"
      ]
     },
     "metadata": {},
     "output_type": "display_data"
    },
    {
     "name": "stdout",
     "output_type": "stream",
     "text": [
      "ROC-AUC Score: 0.8829\n",
      "Logistic Regression evaluation completed.\n",
      "\n",
      "==================================================\n",
      "\n",
      "Training Random Forest...\n",
      "Random Forest trained successfully.\n",
      "y_proba : [0.09 0.28 0.   ... 0.18 0.42 0.  ]\n",
      "Accuracy: 0.8453\n",
      "Precision: 0.6931\n",
      "Recall:    0.5867\n",
      "F1 Score:  0.6355\n",
      "F2 Score:  0.6053\n"
     ]
    },
    {
     "data": {
      "image/png": "[encoded data removed]",
      "text/plain": [
       "<Figure size 600x400 with 2 Axes>"
      ]
     },
     "metadata": {},
     "output_type": "display_data"
    },
    {
     "name": "stdout",
     "output_type": "stream",
     "text": [
      "ROC-AUC Score: 0.8932\n",
      "Random Forest evaluation completed.\n",
      "\n",
      "==================================================\n",
      "\n",
      "Training SVM...\n",
      "SVM trained successfully.\n",
      "y_proba : [0.21230004 0.21035371 0.20162954 ... 0.21568141 0.21372634 0.20101385]\n",
      "Accuracy: 0.7833\n",
      "Precision: 0.7193\n",
      "Recall:    0.0940\n",
      "F1 Score:  0.1662\n",
      "F2 Score:  0.1137\n"
     ]
    },
    {
     "data": {
      "image/png": "[encoded data removed]",
      "text/plain": [
       "<Figure size 600x400 with 2 Axes>"
      ]
     },
     "metadata": {},
     "output_type": "display_data"
    },
    {
     "name": "stdout",
     "output_type": "stream",
     "text": [
      "ROC-AUC Score: 0.8664\n",
      "SVM evaluation completed.\n",
      "\n",
      "==================================================\n",
      "\n",
      "Training KNN...\n",
      "KNN trained successfully.\n",
      "y_proba : [0.  0.  0.  ... 0.4 0.6 0. ]\n",
      "Accuracy: 0.8326\n",
      "Precision: 0.6564\n",
      "Recall:    0.5707\n",
      "F1 Score:  0.6105\n",
      "F2 Score:  0.5860\n"
     ]
    },
    {
     "data": {
      "image/png": "[encoded data removed]",
      "text/plain": [
       "<Figure size 600x400 with 2 Axes>"
      ]
     },
     "metadata": {},
     "output_type": "display_data"
    },
    {
     "name": "stdout",
     "output_type": "stream",
     "text": [
      "ROC-AUC Score: 0.8518\n",
      "KNN evaluation completed.\n",
      "\n",
      "==================================================\n",
      "\n",
      "Training XGBoost...\n",
      "XGBoost trained successfully.\n",
      "y_proba : [2.71814704e-01 1.90459743e-01 4.61682864e-03 ... 3.72752130e-01\n",
      " 6.81102276e-01 1.04460065e-04]\n",
      "Accuracy: 0.8651\n",
      "Precision: 0.7439\n",
      "Recall:    0.6303\n",
      "F1 Score:  0.6824\n",
      "F2 Score:  0.6501\n"
     ]
    },
    {
     "data": {
      "image/png": "[encoded data removed]",
      "text/plain": [
       "<Figure size 600x400 with 2 Axes>"
      ]
     },
     "metadata": {},
     "output_type": "display_data"
    },
    {
     "name": "stdout",
     "output_type": "stream",
     "text": [
      "ROC-AUC Score: 0.9199\n",
      "XGBoost evaluation completed.\n",
      "\n",
      "==================================================\n"
     ]
    }
   ],
   "source": [
    "from sklearn.linear_model import LogisticRegression\n",
    "from sklearn.ensemble import RandomForestClassifier\n",
    "from sklearn.svm import SVC\n",
    "from sklearn.neighbors import KNeighborsClassifier\n",
    "from xgboost import XGBClassifier\n",
    "\n",
    "\n",
    "models = {\n",
    "    'Logistic Regression': LogisticRegression(random_state=123), # LogisticRegression(penalty='l2', C=1.0, solver='lbfgs', max_iter=1000), # C to reduce overfitting\n",
    "    #'Random Forest': RandomForestClassifier(random_state=123), # n_estimators, max_depth, min_samples_split, min_samples_leaf to reduce overfitting // class_weight='balanced' if imbalanced dataset or class_weight={0: 1, 1: 10} otherwise\n",
    "    #'SVM': SVC(random_state=123, probability=True),\n",
    "    #'KNN': KNeighborsClassifier(n_neighbors=5),\n",
    "    'XGBoost': XGBClassifier(random_state=123, use_label_encoder=False, eval_metric='logloss'), # eval_metric='logloss' or 'mlogloss' for multiclass # learning_rate  // n_estimators  // max_depth // max_leaves to reduce overfitting\n",
    "}\n",
    "\n",
    "X_train, X_test, y_train, y_test = train_test_split(\n",
    "    df_copy.drop(columns=[target_feature]), \n",
    "    df_copy[target_feature], \n",
    "    test_size=0.2, \n",
    "    random_state=123, \n",
    "    stratify=df_copy[target_feature] if target_feature in df_copy.columns else None\n",
    ")\n",
    "\n",
    "for model_name, model in models.items():\n",
    "    print(f\"\\nTraining {model_name}...\")\n",
    "    model.fit(X_train, y_train)\n",
    "    print(f\"{model_name} trained successfully.\")\n",
    "    y_pred = model.predict(X_test)\n",
    "    y_proba = model.predict_proba(X_test)[:, 1] if hasattr(model, 'predict_proba') else None\n",
    "    print(\"y_proba :\",y_proba)\n",
    "    evaluate_model_custom( y_test, y_pred, y_proba)\n",
    "    print(f\"{model_name} evaluation completed.\\n\")\n",
    "    print(\"=\" * 50)\n",
    "    \n",
    "    "
   ]
  },
  {
   "cell_type": "markdown",
   "id": "7dcaef22",
   "metadata": {},
   "source": [
    "## 5. Interpretability"
   ]
  },
  {
   "cell_type": "code",
   "execution_count": 129,
   "id": "44b7ee76",
   "metadata": {},
   "outputs": [
    {
     "name": "stdout",
     "output_type": "stream",
     "text": [
      "Collecting shapiq\n",
      "  Downloading shapiq-1.2.3-py3-none-any.whl.metadata (20 kB)\n",
      "Requirement already satisfied: numpy in c:\\users\\ad\\appdata\\local\\programs\\python\\python312\\lib\\site-packages (from shapiq) (1.26.4)\n",
      "Requirement already satisfied: scipy in c:\\users\\ad\\appdata\\local\\programs\\python\\python312\\lib\\site-packages (from shapiq) (1.12.0)\n",
      "Requirement already satisfied: pandas in c:\\users\\ad\\appdata\\local\\programs\\python\\python312\\lib\\site-packages (from shapiq) (2.2.1)\n",
      "Requirement already satisfied: scikit-learn in c:\\users\\ad\\appdata\\local\\programs\\python\\python312\\lib\\site-packages (from shapiq) (1.4.1.post1)\n",
      "Requirement already satisfied: tqdm in c:\\users\\ad\\appdata\\local\\programs\\python\\python312\\lib\\site-packages (from shapiq) (4.66.2)\n",
      "Requirement already satisfied: requests in c:\\users\\ad\\appdata\\local\\programs\\python\\python312\\lib\\site-packages (from shapiq) (2.31.0)\n",
      "Requirement already satisfied: matplotlib in c:\\users\\ad\\appdata\\local\\programs\\python\\python312\\lib\\site-packages (from shapiq) (3.8.3)\n",
      "Requirement already satisfied: networkx in c:\\users\\ad\\appdata\\local\\programs\\python\\python312\\lib\\site-packages (from shapiq) (3.2.1)\n",
      "Collecting colour (from shapiq)\n",
      "  Downloading colour-0.1.5-py2.py3-none-any.whl.metadata (18 kB)\n",
      "Requirement already satisfied: contourpy>=1.0.1 in c:\\users\\ad\\appdata\\local\\programs\\python\\python312\\lib\\site-packages (from matplotlib->shapiq) (1.2.0)\n",
      "Requirement already satisfied: cycler>=0.10 in c:\\users\\ad\\appdata\\local\\programs\\python\\python312\\lib\\site-packages (from matplotlib->shapiq) (0.12.1)\n",
      "Requirement already satisfied: fonttools>=4.22.0 in c:\\users\\ad\\appdata\\local\\programs\\python\\python312\\lib\\site-packages (from matplotlib->shapiq) (4.49.0)\n",
      "Requirement already satisfied: kiwisolver>=1.3.1 in c:\\users\\ad\\appdata\\local\\programs\\python\\python312\\lib\\site-packages (from matplotlib->shapiq) (1.4.5)\n",
      "Requirement already satisfied: packaging>=20.0 in c:\\users\\ad\\appdata\\roaming\\python\\python312\\site-packages (from matplotlib->shapiq) (23.2)\n",
      "Requirement already satisfied: pillow>=8 in c:\\users\\ad\\appdata\\local\\programs\\python\\python312\\lib\\site-packages (from matplotlib->shapiq) (10.2.0)\n",
      "Requirement already satisfied: pyparsing>=2.3.1 in c:\\users\\ad\\appdata\\local\\programs\\python\\python312\\lib\\site-packages (from matplotlib->shapiq) (3.1.1)\n",
      "Requirement already satisfied: python-dateutil>=2.7 in c:\\users\\ad\\appdata\\roaming\\python\\python312\\site-packages (from matplotlib->shapiq) (2.8.2)\n",
      "Requirement already satisfied: pytz>=2020.1 in c:\\users\\ad\\appdata\\local\\programs\\python\\python312\\lib\\site-packages (from pandas->shapiq) (2024.1)\n",
      "Requirement already satisfied: tzdata>=2022.7 in c:\\users\\ad\\appdata\\local\\programs\\python\\python312\\lib\\site-packages (from pandas->shapiq) (2024.1)\n",
      "Requirement already satisfied: charset-normalizer<4,>=2 in c:\\users\\ad\\appdata\\local\\programs\\python\\python312\\lib\\site-packages (from requests->shapiq) (3.3.2)\n",
      "Requirement already satisfied: idna<4,>=2.5 in c:\\users\\ad\\appdata\\local\\programs\\python\\python312\\lib\\site-packages (from requests->shapiq) (3.6)\n",
      "Requirement already satisfied: urllib3<3,>=1.21.1 in c:\\users\\ad\\appdata\\local\\programs\\python\\python312\\lib\\site-packages (from requests->shapiq) (2.2.1)\n",
      "Requirement already satisfied: certifi>=2017.4.17 in c:\\users\\ad\\appdata\\local\\programs\\python\\python312\\lib\\site-packages (from requests->shapiq) (2024.2.2)\n",
      "Requirement already satisfied: joblib>=1.2.0 in c:\\users\\ad\\appdata\\local\\programs\\python\\python312\\lib\\site-packages (from scikit-learn->shapiq) (1.4.0)\n",
      "Requirement already satisfied: threadpoolctl>=2.0.0 in c:\\users\\ad\\appdata\\local\\programs\\python\\python312\\lib\\site-packages (from scikit-learn->shapiq) (3.3.0)\n",
      "Requirement already satisfied: colorama in c:\\users\\ad\\appdata\\roaming\\python\\python312\\site-packages (from tqdm->shapiq) (0.4.6)\n",
      "Requirement already satisfied: six>=1.5 in c:\\users\\ad\\appdata\\roaming\\python\\python312\\site-packages (from python-dateutil>=2.7->matplotlib->shapiq) (1.16.0)\n",
      "Downloading shapiq-1.2.3-py3-none-any.whl (244 kB)\n",
      "Downloading colour-0.1.5-py2.py3-none-any.whl (23 kB)\n",
      "Installing collected packages: colour, shapiq\n",
      "Successfully installed colour-0.1.5 shapiq-1.2.3\n"
     ]
    },
    {
     "name": "stderr",
     "output_type": "stream",
     "text": [
      "\n",
      "[notice] A new release of pip is available: 25.0.1 -> 25.1.1\n",
      "[notice] To update, run: python.exe -m pip install --upgrade pip\n"
     ]
    }
   ],
   "source": [
    "!pip install shapiq"
   ]
  },
  {
   "cell_type": "code",
   "execution_count": 132,
   "id": "2b2d3269",
   "metadata": {},
   "outputs": [],
   "source": [
    "from xgboost import XGBClassifier\n",
    "import shapiq\n",
    "clf = XGBClassifier(random_state=123, use_label_encoder=False, eval_metric='logloss') # eval_metric='logloss' or 'mlogloss' for multiclass # learning_rate  // n_estimators  // max_depth // max_leaves to reduce overfitting\n",
    "\n",
    "clf.fit(X_train, y_train)\n",
    "# Make predictions\n",
    "y_pred = clf.predict(X_test)\n",
    "y_proba = clf.predict_proba(X_test)[:, 1] if hasattr(clf, 'predict_proba') else None\n",
    "\n",
    "# Shapiq\n",
    "\n",
    "explainer_tabular = shapiq.TabularExplainer(model=clf, data=np.array(X_train), index=\"SII\", max_order=2)\n",
    "\n",
    "\n",
    "\n",
    "# correlation does not impy causation // confouding variables problem"
   ]
  },
  {
   "cell_type": "code",
   "execution_count": 139,
   "id": "a206128b",
   "metadata": {},
   "outputs": [
    {
     "data": {
      "application/vnd.microsoft.datawrangler.viewer.v0+json": {
       "columns": [
        {
         "name": "index",
         "rawType": "int64",
         "type": "integer"
        },
        {
         "name": "age",
         "rawType": "int64",
         "type": "integer"
        },
        {
         "name": "fnlwgt",
         "rawType": "float64",
         "type": "float"
        },
        {
         "name": "education-num",
         "rawType": "int64",
         "type": "integer"
        },
        {
         "name": "capital-gain",
         "rawType": "float64",
         "type": "float"
        },
        {
         "name": "capital-loss",
         "rawType": "int64",
         "type": "integer"
        },
        {
         "name": "hours-per-week",
         "rawType": "int64",
         "type": "integer"
        },
        {
         "name": "race_ Amer-Indian-Eskimo",
         "rawType": "float64",
         "type": "float"
        },
        {
         "name": "race_ Asian-Pac-Islander",
         "rawType": "float64",
         "type": "float"
        },
        {
         "name": "race_ Black",
         "rawType": "float64",
         "type": "float"
        },
        {
         "name": "race_ Other",
         "rawType": "float64",
         "type": "float"
        },
        {
         "name": "race_ White",
         "rawType": "float64",
         "type": "float"
        },
        {
         "name": "sex_ Male",
         "rawType": "float64",
         "type": "float"
        },
        {
         "name": "relationship_encoded",
         "rawType": "float64",
         "type": "float"
        },
        {
         "name": "marital-status_encoded",
         "rawType": "float64",
         "type": "float"
        }
       ],
       "ref": "72ccb42e-b7ad-4e07-8618-ed780e5d115d",
       "rows": [
        [
         "27569",
         "40",
         "1.186014892124562",
         "9",
         "-0.2333209711972705",
         "0",
         "40",
         "0.0",
         "0.0",
         "0.0",
         "0.0",
         "1.0",
         "1.0",
         "1.0",
         "0.43811938852182186"
        ],
        [
         "12027",
         "35",
         "-0.8937564222902769",
         "9",
         "-0.2333209711972705",
         "0",
         "40",
         "0.0",
         "0.0",
         "0.0",
         "0.0",
         "1.0",
         "1.0",
         "1.0",
         "0.43811938852182186"
        ]
       ],
       "shape": {
        "columns": 14,
        "rows": 2
       }
      },
      "text/html": [
       "<div>\n",
       "<style scoped>\n",
       "    .dataframe tbody tr th:only-of-type {\n",
       "        vertical-align: middle;\n",
       "    }\n",
       "\n",
       "    .dataframe tbody tr th {\n",
       "        vertical-align: top;\n",
       "    }\n",
       "\n",
       "    .dataframe thead th {\n",
       "        text-align: right;\n",
       "    }\n",
       "</style>\n",
       "<table border=\"1\" class=\"dataframe\">\n",
       "  <thead>\n",
       "    <tr style=\"text-align: right;\">\n",
       "      <th></th>\n",
       "      <th>age</th>\n",
       "      <th>fnlwgt</th>\n",
       "      <th>education-num</th>\n",
       "      <th>capital-gain</th>\n",
       "      <th>capital-loss</th>\n",
       "      <th>hours-per-week</th>\n",
       "      <th>race_ Amer-Indian-Eskimo</th>\n",
       "      <th>race_ Asian-Pac-Islander</th>\n",
       "      <th>race_ Black</th>\n",
       "      <th>race_ Other</th>\n",
       "      <th>race_ White</th>\n",
       "      <th>sex_ Male</th>\n",
       "      <th>relationship_encoded</th>\n",
       "      <th>marital-status_encoded</th>\n",
       "    </tr>\n",
       "  </thead>\n",
       "  <tbody>\n",
       "    <tr>\n",
       "      <th>27569</th>\n",
       "      <td>40</td>\n",
       "      <td>1.186015</td>\n",
       "      <td>9</td>\n",
       "      <td>-0.233321</td>\n",
       "      <td>0</td>\n",
       "      <td>40</td>\n",
       "      <td>0.0</td>\n",
       "      <td>0.0</td>\n",
       "      <td>0.0</td>\n",
       "      <td>0.0</td>\n",
       "      <td>1.0</td>\n",
       "      <td>1.0</td>\n",
       "      <td>1.0</td>\n",
       "      <td>0.438119</td>\n",
       "    </tr>\n",
       "    <tr>\n",
       "      <th>12027</th>\n",
       "      <td>35</td>\n",
       "      <td>-0.893756</td>\n",
       "      <td>9</td>\n",
       "      <td>-0.233321</td>\n",
       "      <td>0</td>\n",
       "      <td>40</td>\n",
       "      <td>0.0</td>\n",
       "      <td>0.0</td>\n",
       "      <td>0.0</td>\n",
       "      <td>0.0</td>\n",
       "      <td>1.0</td>\n",
       "      <td>1.0</td>\n",
       "      <td>1.0</td>\n",
       "      <td>0.438119</td>\n",
       "    </tr>\n",
       "  </tbody>\n",
       "</table>\n",
       "</div>"
      ],
      "text/plain": [
       "       age    fnlwgt  education-num  capital-gain  capital-loss  \\\n",
       "27569   40  1.186015              9     -0.233321             0   \n",
       "12027   35 -0.893756              9     -0.233321             0   \n",
       "\n",
       "       hours-per-week  race_ Amer-Indian-Eskimo  race_ Asian-Pac-Islander  \\\n",
       "27569              40                       0.0                       0.0   \n",
       "12027              40                       0.0                       0.0   \n",
       "\n",
       "       race_ Black  race_ Other  race_ White  sex_ Male  relationship_encoded  \\\n",
       "27569          0.0          0.0          1.0        1.0                   1.0   \n",
       "12027          0.0          0.0          1.0        1.0                   1.0   \n",
       "\n",
       "       marital-status_encoded  \n",
       "27569                0.438119  \n",
       "12027                0.438119  "
      ]
     },
     "execution_count": 139,
     "metadata": {},
     "output_type": "execute_result"
    }
   ],
   "source": [
    "X_test.iloc[0:2]"
   ]
  },
  {
   "cell_type": "code",
   "execution_count": null,
   "id": "412b1731",
   "metadata": {},
   "outputs": [
    {
     "ename": "ValueError",
     "evalue": "could not broadcast input array from shape (32768,) into shape (16384,)",
     "output_type": "error",
     "traceback": [
      "\u001b[1;31m---------------------------------------------------------------------------\u001b[0m",
      "\u001b[1;31mValueError\u001b[0m                                Traceback (most recent call last)",
      "Cell \u001b[1;32mIn[138], line 1\u001b[0m\n\u001b[1;32m----> 1\u001b[0m \u001b[43mexplainer_tabular\u001b[49m\u001b[38;5;241;43m.\u001b[39;49m\u001b[43mexplain\u001b[49m\u001b[43m(\u001b[49m\u001b[43mX_test\u001b[49m\u001b[38;5;241;43m.\u001b[39;49m\u001b[43miloc\u001b[49m\u001b[43m[\u001b[49m\u001b[38;5;241;43m0\u001b[39;49m\u001b[43m:\u001b[49m\u001b[38;5;241;43m2\u001b[39;49m\u001b[43m]\u001b[49m\u001b[43m)\u001b[49m\n",
      "File \u001b[1;32mc:\\Users\\Ad\\AppData\\Local\\Programs\\Python\\Python312\\Lib\\site-packages\\shapiq\\explainer\\_base.py:99\u001b[0m, in \u001b[0;36mExplainer.explain\u001b[1;34m(self, x, *args, **kwargs)\u001b[0m\n\u001b[0;32m     88\u001b[0m \u001b[38;5;28;01mdef\u001b[39;00m \u001b[38;5;21mexplain\u001b[39m(\u001b[38;5;28mself\u001b[39m, x: np\u001b[38;5;241m.\u001b[39mndarray, \u001b[38;5;241m*\u001b[39margs, \u001b[38;5;241m*\u001b[39m\u001b[38;5;241m*\u001b[39mkwargs) \u001b[38;5;241m-\u001b[39m\u001b[38;5;241m>\u001b[39m InteractionValues:\n\u001b[0;32m     89\u001b[0m \u001b[38;5;250m    \u001b[39m\u001b[38;5;124;03m\"\"\"Explain a single prediction in terms of interaction values.\u001b[39;00m\n\u001b[0;32m     90\u001b[0m \n\u001b[0;32m     91\u001b[0m \u001b[38;5;124;03m    Args:\u001b[39;00m\n\u001b[1;32m   (...)\u001b[0m\n\u001b[0;32m     97\u001b[0m \u001b[38;5;124;03m        The interaction values of the prediction.\u001b[39;00m\n\u001b[0;32m     98\u001b[0m \u001b[38;5;124;03m    \"\"\"\u001b[39;00m\n\u001b[1;32m---> 99\u001b[0m     explanation \u001b[38;5;241m=\u001b[39m \u001b[38;5;28;43mself\u001b[39;49m\u001b[38;5;241;43m.\u001b[39;49m\u001b[43mexplain_function\u001b[49m\u001b[43m(\u001b[49m\u001b[43mx\u001b[49m\u001b[38;5;241;43m=\u001b[39;49m\u001b[43mx\u001b[49m\u001b[43m,\u001b[49m\u001b[43m \u001b[49m\u001b[38;5;241;43m*\u001b[39;49m\u001b[43margs\u001b[49m\u001b[43m,\u001b[49m\u001b[43m \u001b[49m\u001b[38;5;241;43m*\u001b[39;49m\u001b[38;5;241;43m*\u001b[39;49m\u001b[43mkwargs\u001b[49m\u001b[43m)\u001b[49m\n\u001b[0;32m    100\u001b[0m     \u001b[38;5;28;01mreturn\u001b[39;00m explanation\n",
      "File \u001b[1;32mc:\\Users\\Ad\\AppData\\Local\\Programs\\Python\\Python312\\Lib\\site-packages\\shapiq\\explainer\\tabular.py:211\u001b[0m, in \u001b[0;36mTabularExplainer.explain_function\u001b[1;34m(self, x, budget, random_state)\u001b[0m\n\u001b[0;32m    208\u001b[0m imputer \u001b[38;5;241m=\u001b[39m \u001b[38;5;28mself\u001b[39m\u001b[38;5;241m.\u001b[39m_imputer\u001b[38;5;241m.\u001b[39mfit(x)\n\u001b[0;32m    210\u001b[0m \u001b[38;5;66;03m# explain\u001b[39;00m\n\u001b[1;32m--> 211\u001b[0m interaction_values \u001b[38;5;241m=\u001b[39m \u001b[38;5;28;43mself\u001b[39;49m\u001b[38;5;241;43m.\u001b[39;49m\u001b[43m_approximator\u001b[49m\u001b[43m(\u001b[49m\u001b[43mbudget\u001b[49m\u001b[38;5;241;43m=\u001b[39;49m\u001b[43mbudget\u001b[49m\u001b[43m,\u001b[49m\u001b[43m \u001b[49m\u001b[43mgame\u001b[49m\u001b[38;5;241;43m=\u001b[39;49m\u001b[43mimputer\u001b[49m\u001b[43m)\u001b[49m\n\u001b[0;32m    212\u001b[0m interaction_values\u001b[38;5;241m.\u001b[39mbaseline_value \u001b[38;5;241m=\u001b[39m \u001b[38;5;28mself\u001b[39m\u001b[38;5;241m.\u001b[39mbaseline_value\n\u001b[0;32m    213\u001b[0m interaction_values \u001b[38;5;241m=\u001b[39m finalize_computed_interactions(\n\u001b[0;32m    214\u001b[0m     interaction_values, target_index\u001b[38;5;241m=\u001b[39m\u001b[38;5;28mself\u001b[39m\u001b[38;5;241m.\u001b[39mindex\n\u001b[0;32m    215\u001b[0m )\n",
      "File \u001b[1;32mc:\\Users\\Ad\\AppData\\Local\\Programs\\Python\\Python312\\Lib\\site-packages\\shapiq\\approximator\\_base.py:112\u001b[0m, in \u001b[0;36mApproximator.__call__\u001b[1;34m(self, budget, game, *args, **kwargs)\u001b[0m\n\u001b[0;32m    108\u001b[0m \u001b[38;5;28;01mdef\u001b[39;00m \u001b[38;5;21m__call__\u001b[39m(\n\u001b[0;32m    109\u001b[0m     \u001b[38;5;28mself\u001b[39m, budget: \u001b[38;5;28mint\u001b[39m, game: Callable[[np\u001b[38;5;241m.\u001b[39mndarray], np\u001b[38;5;241m.\u001b[39mndarray], \u001b[38;5;241m*\u001b[39margs, \u001b[38;5;241m*\u001b[39m\u001b[38;5;241m*\u001b[39mkwargs\n\u001b[0;32m    110\u001b[0m ) \u001b[38;5;241m-\u001b[39m\u001b[38;5;241m>\u001b[39m InteractionValues:\n\u001b[0;32m    111\u001b[0m \u001b[38;5;250m    \u001b[39m\u001b[38;5;124;03m\"\"\"Calls the approximate method.\"\"\"\u001b[39;00m\n\u001b[1;32m--> 112\u001b[0m     \u001b[38;5;28;01mreturn\u001b[39;00m \u001b[38;5;28;43mself\u001b[39;49m\u001b[38;5;241;43m.\u001b[39;49m\u001b[43mapproximate\u001b[49m\u001b[43m(\u001b[49m\u001b[43mbudget\u001b[49m\u001b[38;5;241;43m=\u001b[39;49m\u001b[43mbudget\u001b[49m\u001b[43m,\u001b[49m\u001b[43m \u001b[49m\u001b[43mgame\u001b[49m\u001b[38;5;241;43m=\u001b[39;49m\u001b[43mgame\u001b[49m\u001b[43m,\u001b[49m\u001b[43m \u001b[49m\u001b[38;5;241;43m*\u001b[39;49m\u001b[43margs\u001b[49m\u001b[43m,\u001b[49m\u001b[43m \u001b[49m\u001b[38;5;241;43m*\u001b[39;49m\u001b[38;5;241;43m*\u001b[39;49m\u001b[43mkwargs\u001b[49m\u001b[43m)\u001b[49m\n",
      "File \u001b[1;32mc:\\Users\\Ad\\AppData\\Local\\Programs\\Python\\Python312\\Lib\\site-packages\\shapiq\\approximator\\regression\\_base.py:136\u001b[0m, in \u001b[0;36mRegression.approximate\u001b[1;34m(self, budget, game, *args, **kwargs)\u001b[0m\n\u001b[0;32m    133\u001b[0m \u001b[38;5;28mself\u001b[39m\u001b[38;5;241m.\u001b[39m_sampler\u001b[38;5;241m.\u001b[39msample(budget)\n\u001b[0;32m    135\u001b[0m \u001b[38;5;66;03m# query the game for the coalitions\u001b[39;00m\n\u001b[1;32m--> 136\u001b[0m game_values \u001b[38;5;241m=\u001b[39m \u001b[43mgame\u001b[49m\u001b[43m(\u001b[49m\u001b[38;5;28;43mself\u001b[39;49m\u001b[38;5;241;43m.\u001b[39;49m\u001b[43m_sampler\u001b[49m\u001b[38;5;241;43m.\u001b[39;49m\u001b[43mcoalitions_matrix\u001b[49m\u001b[43m)\u001b[49m\n\u001b[0;32m    138\u001b[0m index_approximation \u001b[38;5;241m=\u001b[39m \u001b[38;5;28mself\u001b[39m\u001b[38;5;241m.\u001b[39mindex\n\u001b[0;32m    139\u001b[0m \u001b[38;5;28;01mif\u001b[39;00m \u001b[38;5;28mself\u001b[39m\u001b[38;5;241m.\u001b[39mindex \u001b[38;5;241m==\u001b[39m \u001b[38;5;124m\"\u001b[39m\u001b[38;5;124mk-SII\u001b[39m\u001b[38;5;124m\"\u001b[39m:\n",
      "File \u001b[1;32mc:\\Users\\Ad\\AppData\\Local\\Programs\\Python\\Python312\\Lib\\site-packages\\shapiq\\games\\base.py:278\u001b[0m, in \u001b[0;36mGame.__call__\u001b[1;34m(self, coalitions, verbose)\u001b[0m\n\u001b[0;32m    276\u001b[0m verbose \u001b[38;5;241m=\u001b[39m verbose \u001b[38;5;129;01mor\u001b[39;00m \u001b[38;5;28mself\u001b[39m\u001b[38;5;241m.\u001b[39mverbose\n\u001b[0;32m    277\u001b[0m \u001b[38;5;28;01mif\u001b[39;00m \u001b[38;5;129;01mnot\u001b[39;00m \u001b[38;5;28mself\u001b[39m\u001b[38;5;241m.\u001b[39mprecomputed \u001b[38;5;129;01mand\u001b[39;00m \u001b[38;5;129;01mnot\u001b[39;00m verbose:\n\u001b[1;32m--> 278\u001b[0m     values \u001b[38;5;241m=\u001b[39m \u001b[38;5;28;43mself\u001b[39;49m\u001b[38;5;241;43m.\u001b[39;49m\u001b[43mvalue_function\u001b[49m\u001b[43m(\u001b[49m\u001b[43mcoalitions\u001b[49m\u001b[43m)\u001b[49m\n\u001b[0;32m    279\u001b[0m \u001b[38;5;28;01melif\u001b[39;00m \u001b[38;5;129;01mnot\u001b[39;00m \u001b[38;5;28mself\u001b[39m\u001b[38;5;241m.\u001b[39mprecomputed \u001b[38;5;129;01mand\u001b[39;00m verbose:\n\u001b[0;32m    280\u001b[0m     values \u001b[38;5;241m=\u001b[39m np\u001b[38;5;241m.\u001b[39mzeros(coalitions\u001b[38;5;241m.\u001b[39mshape[\u001b[38;5;241m0\u001b[39m], dtype\u001b[38;5;241m=\u001b[39m\u001b[38;5;28mfloat\u001b[39m)\n",
      "File \u001b[1;32mc:\\Users\\Ad\\AppData\\Local\\Programs\\Python\\Python312\\Lib\\site-packages\\shapiq\\games\\imputer\\marginal_imputer.py:101\u001b[0m, in \u001b[0;36mMarginalImputer.value_function\u001b[1;34m(self, coalitions)\u001b[0m\n\u001b[0;32m     99\u001b[0m         imputed_data[i, \u001b[38;5;241m~\u001b[39mcoalitions[i]] \u001b[38;5;241m=\u001b[39m replacement_data[j, \u001b[38;5;241m~\u001b[39mcoalitions[i]]\n\u001b[0;32m    100\u001b[0m     predictions \u001b[38;5;241m=\u001b[39m \u001b[38;5;28mself\u001b[39m\u001b[38;5;241m.\u001b[39mpredict(imputed_data)\n\u001b[1;32m--> 101\u001b[0m     \u001b[43moutputs\u001b[49m\u001b[43m[\u001b[49m\u001b[43mj\u001b[49m\u001b[43m]\u001b[49m \u001b[38;5;241m=\u001b[39m predictions\n\u001b[0;32m    102\u001b[0m outputs \u001b[38;5;241m=\u001b[39m np\u001b[38;5;241m.\u001b[39mmean(outputs, axis\u001b[38;5;241m=\u001b[39m\u001b[38;5;241m0\u001b[39m)  \u001b[38;5;66;03m# average over the samples\u001b[39;00m\n\u001b[0;32m    103\u001b[0m \u001b[38;5;66;03m# insert the better approximate empty prediction for the empty coalitions\u001b[39;00m\n",
      "\u001b[1;31mValueError\u001b[0m: could not broadcast input array from shape (32768,) into shape (16384,)"
     ]
    }
   ],
   "source": [
    "explainer_tabular.explain(X_test.iloc[0:2])\n",
    "\n",
    "\n",
    "\n",
    "\n",
    "# ADD partial dependence plots // xgboost feature importance \n",
    "\n",
    "# F:\\Ekimetrics\\my personal files eki\\WebScrapBook\\data\\Shapiq interaction"
   ]
  },
  {
   "cell_type": "markdown",
   "id": "7a53131a",
   "metadata": {},
   "source": [
    "## 6. Production Pipeline"
   ]
  },
  {
   "cell_type": "code",
   "execution_count": null,
   "id": "adc9b7ae",
   "metadata": {},
   "outputs": [
    {
     "name": "stdout",
     "output_type": "stream",
     "text": [
      "Accuracy: 0.8447\n",
      "Precision: 0.7050\n",
      "Recall:    0.6332\n",
      "F1 Score:  0.6672\n",
      "F2 Score:  0.6464\n"
     ]
    },
    {
     "data": {
      "image/png": "[encoded data removed]",
      "text/plain": [
       "<Figure size 600x400 with 2 Axes>"
      ]
     },
     "metadata": {},
     "output_type": "display_data"
    },
    {
     "name": "stdout",
     "output_type": "stream",
     "text": [
      "ROC-AUC Score: 0.8973\n"
     ]
    }
   ],
   "source": [
    "from sklearn.pipeline import Pipeline\n",
    "from sklearn.compose import ColumnTransformer\n",
    "from sklearn.preprocessing import OneHotEncoder, OrdinalEncoder, StandardScaler, FunctionTransformer\n",
    "\n",
    "from sklearn.impute import SimpleImputer\n",
    "\n",
    "from sklearn.ensemble import RandomForestClassifier\n",
    "\n",
    "# Features\n",
    "numerical_features = [\"fnlwgt\", \"capital-gain\"]\n",
    "ordinal_features = [\"relationship\"]\n",
    "nominal_features = [\"race\", \"sex\",\"marital-status\"]\n",
    "high_card_features = []\n",
    "\n",
    "\n",
    "\n",
    "# Transformers\n",
    "num_transformer = Pipeline(steps=[\n",
    "    (\"imputer\", SimpleImputer(strategy=\"median\")),\n",
    "    (\"scaler\", StandardScaler())\n",
    "])\n",
    "\n",
    "ordinal_transformer = Pipeline(steps=[\n",
    "    (\"ordinal\", OrdinalEncoder(categories=[[' Wife', ' Husband', ' Not-in-family', ' Own-child', ' Other-relative', ' Unmarried']]))\n",
    "])\n",
    "\n",
    "nominal_transformer = Pipeline(steps=[\n",
    "    (\"onehot\", OneHotEncoder(drop='if_binary', handle_unknown='ignore', sparse_output=False))\n",
    "])\n",
    "\n",
    "\n",
    "\n",
    "\n",
    "# Combine all preprocessing\n",
    "preprocessor = ColumnTransformer(transformers=[\n",
    "    (\"num\", num_transformer, numerical_features),\n",
    "    (\"ord\", ordinal_transformer, ordinal_features),\n",
    "    (\"nom\", nominal_transformer, nominal_features),\n",
    "], remainder=\"passthrough\")  # 'drop' in case all columns are transformed\n",
    "\n",
    "# Final model pipeline\n",
    "pipeline = Pipeline(steps=[\n",
    "    (\"preprocessing\", preprocessor),\n",
    "    (\"classifier\", RandomForestClassifier(n_estimators=100, random_state=42))  # classifier\n",
    "])\n",
    "\n",
    "df_copy = df.copy()\n",
    "\n",
    "df_copy = df_copy[df_copy[\"native-country\"] == \" United-States\"]\n",
    "df_copy = df_copy.reset_index(drop=True)\n",
    "df_copy = df_copy.drop(columns=[\"education\", \"occupation\", \"workclass\", \"native-country\"])\n",
    "df_copy['income'] = df_copy[\"income\"].map({\" <=50K\": 0, \" >50K\": 1}).astype(int)\n",
    "\n",
    "\n",
    "\n",
    "# Target\n",
    "feature_target = \"income\"\n",
    "\n",
    "\n",
    "X_train, X_test, y_train, y_test = train_test_split(\n",
    "    df_copy.drop(columns=[feature_target]), \n",
    "    df_copy[feature_target], \n",
    "    test_size=0.2, \n",
    "    random_state=123, \n",
    "    stratify=df_copy[feature_target] if feature_target in df.columns else None\n",
    ")\n",
    "\n",
    "\n",
    "\n",
    "# Fit the pipeline\n",
    "pipeline.fit(X_train, y_train)\n",
    "# Evaluate the pipeline\n",
    "y_pred = pipeline.predict(X_test)\n",
    "y_proba = pipeline.predict_proba(X_test)[:, 1] if hasattr(pipeline, 'predict_proba') else None\n",
    "\n",
    "evaluate_model_custom(y_test, y_pred,y_proba)"
   ]
  },
  {
   "cell_type": "code",
   "execution_count": null,
   "id": "107c8f17",
   "metadata": {},
   "outputs": [],
   "source": [
    "# # claude\n",
    "# import pandas as pd\n",
    "# from sklearn.pipeline import Pipeline\n",
    "# from sklearn.compose import ColumnTransformer\n",
    "# from sklearn.preprocessing import OneHotEncoder, OrdinalEncoder, StandardScaler, FunctionTransformer\n",
    "# from sklearn.impute import SimpleImputer\n",
    "# from sklearn.ensemble import RandomForestClassifier\n",
    "# from sklearn.model_selection import train_test_split\n",
    "# from sklearn.base import BaseEstimator, TransformerMixin\n",
    "\n",
    "# # Custom transformer for data cleaning and filtering\n",
    "# class DataCleaningTransformer(BaseEstimator, TransformerMixin):\n",
    "#     def __init__(self):\n",
    "#         self.reset_index = True\n",
    "    \n",
    "#     def fit(self, X, y=None):\n",
    "#         return self\n",
    "    \n",
    "#     def transform(self, X):\n",
    "#         df_copy = X.copy()\n",
    "        \n",
    "#         # Filter for US residents only\n",
    "#         if \"native-country\" in df_copy.columns:\n",
    "#             df_copy = df_copy[df_copy[\"native-country\"] == \" United-States\"]\n",
    "        \n",
    "#         # Drop specified columns\n",
    "#         columns_to_drop = [\"education\", \"occupation\", \"workclass\", \"native-country\"]\n",
    "#         existing_columns_to_drop = [col for col in columns_to_drop if col in df_copy.columns]\n",
    "#         if existing_columns_to_drop:\n",
    "#             df_copy = df_copy.drop(columns=existing_columns_to_drop)\n",
    "        \n",
    "#         # Remove duplicates\n",
    "#         duplicates = df_copy.duplicated()\n",
    "#         df_copy = df_copy[~duplicates]\n",
    "#         df_copy = df_copy.reset_index(drop=True)\n",
    "        \n",
    "#         return df_copy\n",
    "\n",
    "# # Custom transformer for outlier removal\n",
    "# class OutlierRemovalTransformer(BaseEstimator, TransformerMixin):\n",
    "#     def __init__(self, numerical_features=None, quantile_threshold=0.98):\n",
    "#         self.numerical_features = numerical_features or []\n",
    "#         self.quantile_threshold = quantile_threshold\n",
    "#         self.quantile_values_ = {}\n",
    "    \n",
    "#     def fit(self, X, y=None):\n",
    "#         df = X.copy()\n",
    "#         # Store quantile values for each numerical feature\n",
    "#         for feature in self.numerical_features:\n",
    "#             if feature in df.columns:\n",
    "#                 self.quantile_values_[feature] = df[feature].quantile(self.quantile_threshold)\n",
    "#         return self\n",
    "    \n",
    "#     def transform(self, X):\n",
    "#         df_copy = X.copy()\n",
    "        \n",
    "#         # Apply outlier removal based on fitted quantiles\n",
    "#         for feature, threshold in self.quantile_values_.items():\n",
    "#             if feature in df_copy.columns:\n",
    "#                 df_copy = df_copy[df_copy[feature] < threshold]\n",
    "        \n",
    "#         df_copy = df_copy.reset_index(drop=True)\n",
    "#         return df_copy\n",
    "\n",
    "# # Custom transformer for target mapping (only for training data with target)\n",
    "# class TargetMappingTransformer(BaseEstimator, TransformerMixin):\n",
    "#     def __init__(self, target_column=\"income\"):\n",
    "#         self.target_column = target_column\n",
    "    \n",
    "#     def fit(self, X, y=None):\n",
    "#         return self\n",
    "    \n",
    "#     def transform(self, X):\n",
    "#         df_copy = X.copy()\n",
    "#         if self.target_column in df_copy.columns:\n",
    "#             df_copy[self.target_column] = df_copy[self.target_column].map({\n",
    "#                 \" <=50K\": 0, \n",
    "#                 \" >50K\": 1\n",
    "#             }).astype(int)\n",
    "#         return df_copy\n",
    "\n",
    "# # Features\n",
    "# numerical_features = [\"fnlwgt\", \"capital-gain\"]\n",
    "# ordinal_features = [\"relationship\"]\n",
    "# nominal_features = [\"race\", \"sex\", \"marital-status\"]\n",
    "# target_feature = \"income\"\n",
    "\n",
    "# # Initialize transformers\n",
    "# data_cleaner = DataCleaningTransformer()\n",
    "# outlier_remover = OutlierRemovalTransformer(numerical_features=numerical_features)\n",
    "# target_mapper = TargetMappingTransformer(target_column=target_feature)\n",
    "\n",
    "# # Feature preprocessing transformers\n",
    "# num_transformer = Pipeline(steps=[\n",
    "#     (\"imputer\", SimpleImputer(strategy=\"median\")),\n",
    "#     (\"scaler\", StandardScaler())\n",
    "# ])\n",
    "\n",
    "# ordinal_transformer = Pipeline(steps=[\n",
    "#     (\"imputer\", SimpleImputer(strategy=\"most_frequent\")),  # Add imputation for ordinal\n",
    "#     (\"ordinal\", OrdinalEncoder(\n",
    "#         categories=[[' Wife', ' Husband', ' Not-in-family', ' Own-child', ' Other-relative', ' Unmarried']],\n",
    "#         handle_unknown='use_encoded_value',\n",
    "#         unknown_value=-1\n",
    "#     ))\n",
    "# ])\n",
    "\n",
    "# nominal_transformer = Pipeline(steps=[\n",
    "#     (\"imputer\", SimpleImputer(strategy=\"most_frequent\")),  # Add imputation for nominal\n",
    "#     (\"onehot\", OneHotEncoder(drop='if_binary', handle_unknown='ignore', sparse_output=False))\n",
    "# ])\n",
    "\n",
    "# # Feature preprocessing only (without target transformation)\n",
    "# feature_preprocessor = ColumnTransformer(transformers=[\n",
    "#     (\"num\", num_transformer, numerical_features),\n",
    "#     (\"ord\", ordinal_transformer, ordinal_features),\n",
    "#     (\"nom\", nominal_transformer, nominal_features)\n",
    "# ], remainder=\"drop\")\n",
    "\n",
    "# # Complete preprocessing pipeline (for training data with target)\n",
    "# def create_full_preprocessing_pipeline():\n",
    "#     return Pipeline(steps=[\n",
    "#         (\"data_cleaning\", data_cleaner),\n",
    "#         (\"outlier_removal\", outlier_remover),\n",
    "#         (\"target_mapping\", target_mapper)\n",
    "#     ])\n",
    "\n",
    "# # Feature-only preprocessing pipeline (for prediction)\n",
    "# def create_feature_preprocessing_pipeline():\n",
    "#     return Pipeline(steps=[\n",
    "#         (\"data_cleaning\", data_cleaner),\n",
    "#         (\"feature_preprocessing\", feature_preprocessor)\n",
    "#     ])\n",
    "\n",
    "# # Example usage:\n",
    "# def train_model(df):\n",
    "#     \"\"\"\n",
    "#     Train the model with proper preprocessing\n",
    "#     \"\"\"\n",
    "#     # Apply initial preprocessing to the full dataset\n",
    "#     preprocessing_pipeline = create_full_preprocessing_pipeline()\n",
    "#     df_processed = preprocessing_pipeline.fit_transform(df)\n",
    "    \n",
    "#     # Split the data\n",
    "#     X = df_processed.drop(columns=[target_feature])\n",
    "#     y = df_processed[target_feature]\n",
    "    \n",
    "#     X_train, X_test, y_train, y_test = train_test_split(\n",
    "#         X, y,\n",
    "#         test_size=0.2,\n",
    "#         random_state=123,\n",
    "#         stratify=y\n",
    "#     )\n",
    "    \n",
    "#     # Create final model pipeline (only feature preprocessing for X data)\n",
    "#     model_pipeline = Pipeline(steps=[\n",
    "#         (\"feature_preprocessing\", feature_preprocessor),\n",
    "#         (\"classifier\", RandomForestClassifier(n_estimators=100, random_state=42))\n",
    "#     ])\n",
    "    \n",
    "#     # Fit the model\n",
    "#     model_pipeline.fit(X_train, y_train)\n",
    "    \n",
    "#     # Make predictions\n",
    "#     y_pred = model_pipeline.predict(X_test)\n",
    "    \n",
    "#     return model_pipeline, X_test, y_test, y_pred\n",
    "\n",
    "# # Alternative approach: Single pipeline for everything (more complex but integrated)\n",
    "# def create_integrated_pipeline():\n",
    "#     \"\"\"\n",
    "#     Creates a single pipeline that handles everything\n",
    "#     Note: This approach requires careful handling of the target variable\n",
    "#     \"\"\"\n",
    "    \n",
    "#     class IntegratedPreprocessor(BaseEstimator, TransformerMixin):\n",
    "#         def __init__(self):\n",
    "#             self.data_cleaner = DataCleaningTransformer()\n",
    "#             self.outlier_remover = OutlierRemovalTransformer(numerical_features=numerical_features)\n",
    "#             self.feature_preprocessor = feature_preprocessor\n",
    "#             self.fitted = False\n",
    "        \n",
    "#         def fit(self, X, y=None):\n",
    "#             # Combine X and y for preprocessing steps that need both\n",
    "#             df_combined = X.copy()\n",
    "#             if y is not None:\n",
    "#                 df_combined[target_feature] = y\n",
    "            \n",
    "#             # Fit preprocessing steps\n",
    "#             df_combined = self.data_cleaner.fit_transform(df_combined)\n",
    "#             df_combined = self.outlier_remover.fit_transform(df_combined)\n",
    "            \n",
    "#             # Separate features for fitting feature preprocessor\n",
    "#             X_features = df_combined.drop(columns=[target_feature] if target_feature in df_combined.columns else [])\n",
    "#             self.feature_preprocessor.fit(X_features)\n",
    "            \n",
    "#             self.fitted = True\n",
    "#             return self\n",
    "        \n",
    "#         def transform(self, X):\n",
    "#             if not self.fitted:\n",
    "#                 raise ValueError(\"Transformer must be fitted before transform\")\n",
    "            \n",
    "#             # For prediction, we only have X (no target)\n",
    "#             df_processed = self.data_cleaner.transform(X)\n",
    "#             # Note: Outlier removal should be carefully handled during prediction\n",
    "#             # You might want to skip it or use fitted thresholds differently\n",
    "            \n",
    "#             return self.feature_preprocessor.transform(df_processed)\n",
    "    \n",
    "#     return Pipeline(steps=[\n",
    "#         (\"integrated_preprocessing\", IntegratedPreprocessor()),\n",
    "#         (\"classifier\", RandomForestClassifier(n_estimators=100, random_state=42))\n",
    "#     ])\n",
    "\n",
    "# # Usage example with error handling\n",
    "# def safe_train_model(df):\n",
    "#     \"\"\"\n",
    "#     Train model with error handling\n",
    "#     \"\"\"\n",
    "#     try:\n",
    "#         return train_model(df)\n",
    "#     except Exception as e:\n",
    "#         print(f\"Error during training: {e}\")\n",
    "#         print(\"Please check that your dataframe has the required columns:\")\n",
    "#         print(f\"Required: {numerical_features + ordinal_features + nominal_features + [target_feature]}\")\n",
    "#         print(f\"Available: {list(df.columns) if 'df' in locals() else 'DataFrame not available'}\")\n",
    "#         raise"
   ]
  },
  {
   "cell_type": "markdown",
   "id": "6c7662d2",
   "metadata": {},
   "source": [
    "## 7.  Save // Drift // Deployment // Reporting"
   ]
  },
  {
   "cell_type": "code",
   "execution_count": null,
   "id": "21125235",
   "metadata": {},
   "outputs": [],
   "source": [
    "import joblib\n",
    "joblib.dump(pipeline, \"pipeline_model.pkl\")  # either save the whole pipeline or just the model\n",
    "# To load the model later\n",
    "loaded_pipeline = joblib.load(\"pipeline_model.pkl\")\n",
    "# Make predictions with the loaded model\n",
    "target = \"income\"\n",
    "df_copy = df.copy()\n",
    "\n",
    "# TODO this part should be integrated into the pipeline\n",
    "\"\"\"\n",
    "df_copy = df_copy[df_copy[\"native-country\"] == \" United-States\"]\n",
    "df_copy = df_copy.reset_index(drop=True)\n",
    "df_copy = df_copy.drop(columns=[\"education\", \"occupation\", \"workclass\", \"native-country\"])\n",
    "df_copy['income'] = df_copy[\"income\"].map({\" <=50K\": 0, \" >50K\": 1}).astype(int)\n",
    "\"\"\"\n",
    "\n",
    "\n",
    "\n",
    "X_test = df_copy.drop(columns=[target])\n",
    "y_test = df_copy[target]\n",
    "y_pred = loaded_pipeline.predict(X_test)\n",
    "y_proba = loaded_pipeline.predict_proba(X_test)[:, 1] if hasattr(loaded_pipeline, 'predict_proba') else None\n",
    "evaluate_model_custom(y_test, y_pred, y_proba)"
   ]
  },
  {
   "cell_type": "markdown",
   "id": "1856730c",
   "metadata": {},
   "source": [
    "### predict new data"
   ]
  },
  {
   "cell_type": "markdown",
   "id": "35b69d5b",
   "metadata": {},
   "source": [
    "### Drift"
   ]
  },
  {
   "cell_type": "code",
   "execution_count": null,
   "id": "dbda0644",
   "metadata": {},
   "outputs": [],
   "source": [
    "# Kolmogorov-Smirnov (K-S) test ( for distribution comparison) // changes in distrubution of input features over time\n",
    "# prior probability distribution shift of the target variable  // corona virus became more common // P(Y) changed but P(X|Y) didn't change\n",
    "# concept drift // relationship between input features and target variable changed over time // less correlation or \n",
    "\n",
    "# performance degradation over time\n"
   ]
  }
 ],
 "metadata": {
  "kernelspec": {
   "display_name": "Python 3",
   "language": "python",
   "name": "python3"
  },
  "language_info": {
   "codemirror_mode": {
    "name": "ipython",
    "version": 3
   },
   "file_extension": ".py",
   "mimetype": "text/x-python",
   "name": "python",
   "nbconvert_exporter": "python",
   "pygments_lexer": "ipython3",
   "version": "3.12.2"
  }
 },
 "nbformat": 4,
 "nbformat_minor": 5
}
